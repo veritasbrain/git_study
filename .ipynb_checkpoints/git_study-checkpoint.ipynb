{
 "cells": [
  {
   "cell_type": "markdown",
   "metadata": {
    "toc": true
   },
   "source": [
    "<h1>Table of Contents<span class=\"tocSkip\"></span></h1>\n",
    "<div class=\"toc\"><ul class=\"toc-item\"><li><span><a href=\"#Create-a-repository-in-github\" data-toc-modified-id=\"Create-a-repository-in-github-1\"><span class=\"toc-item-num\">1&nbsp;&nbsp;</span>Create a repository in github</a></span></li><li><span><a href=\"#clone-it\" data-toc-modified-id=\"clone-it-2\"><span class=\"toc-item-num\">2&nbsp;&nbsp;</span>clone it</a></span></li></ul></div>"
   ]
  },
  {
   "cell_type": "markdown",
   "metadata": {},
   "source": [
    "# Create a repository in github "
   ]
  },
  {
   "cell_type": "markdown",
   "metadata": {},
   "source": [
    "# clone it\n",
    "\n",
    "이걸 노트북 만들기 전에 터미널에서 하게 하고, 그 폴더 안에서 노트북 만들게 한다. \n",
    "\n",
    "```\n",
    " git clone https://github.com/veritasbrain/git_study.git\n",
    " cd git_study\n",
    "```\n",
    " \n"
   ]
  },
  {
   "cell_type": "code",
   "execution_count": 1,
   "metadata": {
    "ExecuteTime": {
     "end_time": "2020-09-19T14:12:17.243430Z",
     "start_time": "2020-09-19T14:12:16.769654Z"
    }
   },
   "outputs": [
    {
     "name": "stdout",
     "output_type": "stream",
     "text": [
      "Cloning into 'test1'...\n",
      "remote: Enumerating objects: 6, done.\u001b[K\n",
      "remote: Total 6 (delta 0), reused 0 (delta 0), pack-reused 6\u001b[K\n",
      "Unpacking objects: 100% (6/6), done.\n"
     ]
    }
   ],
   "source": [
    "\n",
    "#! git clone https://github.com/veritasbrain/git_study.git"
   ]
  },
  {
   "cell_type": "code",
   "execution_count": 6,
   "metadata": {
    "ExecuteTime": {
     "end_time": "2020-09-19T14:13:07.557450Z",
     "start_time": "2020-09-19T14:13:07.553378Z"
    },
    "scrolled": true
   },
   "outputs": [
    {
     "ename": "SyntaxError",
     "evalue": "invalid syntax (<ipython-input-6-9d25e27a4e8a>, line 1)",
     "output_type": "error",
     "traceback": [
      "\u001b[0;36m  File \u001b[0;32m\"<ipython-input-6-9d25e27a4e8a>\"\u001b[0;36m, line \u001b[0;32m1\u001b[0m\n\u001b[0;31m    cd test1\u001b[0m\n\u001b[0m           ^\u001b[0m\n\u001b[0;31mSyntaxError\u001b[0m\u001b[0;31m:\u001b[0m invalid syntax\n"
     ]
    }
   ],
   "source": [
    "#cd git_study\n",
    "\n",
    "\n",
    "\n"
   ]
  },
  {
   "cell_type": "code",
   "execution_count": 8,
   "metadata": {
    "ExecuteTime": {
     "end_time": "2020-09-19T14:14:25.854503Z",
     "start_time": "2020-09-19T14:14:25.733826Z"
    }
   },
   "outputs": [],
   "source": [
    "! touch test1/hello.html"
   ]
  },
  {
   "cell_type": "code",
   "execution_count": null,
   "metadata": {},
   "outputs": [],
   "source": []
  }
 ],
 "metadata": {
  "kernelspec": {
   "display_name": "Python 3.6.7 64-bit ('research': conda)",
   "language": "python",
   "name": "python36764bitresearchconda6c36d073e2374c789cbfcbd2cffdd1e2"
  },
  "language_info": {
   "codemirror_mode": {
    "name": "ipython",
    "version": 3
   },
   "file_extension": ".py",
   "mimetype": "text/x-python",
   "name": "python",
   "nbconvert_exporter": "python",
   "pygments_lexer": "ipython3",
   "version": "3.6.7"
  },
  "toc": {
   "base_numbering": 1,
   "nav_menu": {},
   "number_sections": true,
   "sideBar": true,
   "skip_h1_title": false,
   "title_cell": "Table of Contents",
   "title_sidebar": "Contents",
   "toc_cell": true,
   "toc_position": {
    "height": "912.2000122070312px",
    "left": "10px",
    "top": "129px",
    "width": "193.91250610351562px"
   },
   "toc_section_display": true,
   "toc_window_display": true
  }
 },
 "nbformat": 4,
 "nbformat_minor": 2
}
