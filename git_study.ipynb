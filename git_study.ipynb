{
 "cells": [
  {
   "cell_type": "markdown",
   "metadata": {
    "toc": true
   },
   "source": [
    "<h1>Table of Contents<span class=\"tocSkip\"></span></h1>\n",
    "<div class=\"toc\"><ul class=\"toc-item\"><li><span><a href=\"#Create-a-repository-in-github\" data-toc-modified-id=\"Create-a-repository-in-github-1\"><span class=\"toc-item-num\">1&nbsp;&nbsp;</span>Create a repository in github</a></span></li><li><span><a href=\"#clone-it\" data-toc-modified-id=\"clone-it-2\"><span class=\"toc-item-num\">2&nbsp;&nbsp;</span>clone it</a></span></li></ul></div>"
   ]
  },
  {
   "cell_type": "markdown",
   "metadata": {},
   "source": [
    "# Create a repository in github "
   ]
  },
  {
   "cell_type": "markdown",
   "metadata": {},
   "source": [
    "# clone it\n",
    "\n",
    "이걸 노트북 만들기 전에 터미널에서 하게 하고, 그 폴더 안에서 노트북 만들게 한다. \n",
    "\n",
    "```\n",
    " git clone https://github.com/veritasbrain/git_study.git\n",
    " cd git_study\n",
    "```\n",
    " \n"
   ]
  },
  {
   "cell_type": "code",
   "execution_count": 1,
   "metadata": {
    "ExecuteTime": {
     "end_time": "2020-09-21T12:48:34.677224Z",
     "start_time": "2020-09-21T12:48:34.559237Z"
    }
   },
   "outputs": [
    {
     "name": "stdout",
     "output_type": "stream",
     "text": [
      "\u001b[01;34m.\u001b[00m\r\n",
      "├── README.md\r\n",
      "└── git_study.ipynb\r\n",
      "\r\n",
      "0 directories, 2 files\r\n"
     ]
    }
   ],
   "source": [
    "! tree"
   ]
  },
  {
   "cell_type": "code",
   "execution_count": 2,
   "metadata": {
    "ExecuteTime": {
     "end_time": "2020-09-21T14:38:56.830327Z",
     "start_time": "2020-09-21T14:38:56.695762Z"
    }
   },
   "outputs": [],
   "source": [
    "! git config user.name veritasbrain"
   ]
  },
  {
   "cell_type": "code",
   "execution_count": 3,
   "metadata": {
    "ExecuteTime": {
     "end_time": "2020-09-21T14:39:08.581350Z",
     "start_time": "2020-09-21T14:39:08.455736Z"
    }
   },
   "outputs": [],
   "source": [
    "! git config user.email eygroupllc@gmail.com\n"
   ]
  },
  {
   "cell_type": "code",
   "execution_count": 4,
   "metadata": {
    "ExecuteTime": {
     "end_time": "2020-09-21T14:44:23.096933Z",
     "start_time": "2020-09-21T14:44:22.978491Z"
    }
   },
   "outputs": [],
   "source": [
    "!touch hello.html"
   ]
  },
  {
   "cell_type": "code",
   "execution_count": 5,
   "metadata": {
    "ExecuteTime": {
     "end_time": "2020-09-21T14:44:26.987740Z",
     "start_time": "2020-09-21T14:44:26.863899Z"
    }
   },
   "outputs": [
    {
     "name": "stdout",
     "output_type": "stream",
     "text": [
      "README.md        git_study.ipynb  hello.html\r\n"
     ]
    }
   ],
   "source": [
    "ls"
   ]
  },
  {
   "cell_type": "code",
   "execution_count": null,
   "metadata": {},
   "outputs": [],
   "source": [
    "! echo <"
   ]
  }
 ],
 "metadata": {
  "kernelspec": {
   "display_name": "Python 3.6.7 64-bit ('research': conda)",
   "language": "python",
   "name": "python36764bitresearchconda6c36d073e2374c789cbfcbd2cffdd1e2"
  },
  "language_info": {
   "codemirror_mode": {
    "name": "ipython",
    "version": 3
   },
   "file_extension": ".py",
   "mimetype": "text/x-python",
   "name": "python",
   "nbconvert_exporter": "python",
   "pygments_lexer": "ipython3",
   "version": "3.6.7"
  },
  "toc": {
   "base_numbering": 1,
   "nav_menu": {},
   "number_sections": true,
   "sideBar": true,
   "skip_h1_title": false,
   "title_cell": "Table of Contents",
   "title_sidebar": "Contents",
   "toc_cell": true,
   "toc_position": {
    "height": "912.2000122070312px",
    "left": "10px",
    "top": "129px",
    "width": "193.91250610351562px"
   },
   "toc_section_display": true,
   "toc_window_display": true
  }
 },
 "nbformat": 4,
 "nbformat_minor": 2
}
