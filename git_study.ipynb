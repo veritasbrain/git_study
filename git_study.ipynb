{
 "cells": [
  {
   "cell_type": "markdown",
   "metadata": {
    "toc": true
   },
   "source": [
    "<h1>Table of Contents<span class=\"tocSkip\"></span></h1>\n",
    "<div class=\"toc\"><ul class=\"toc-item\"><li><span><a href=\"#Create-a-repository-in-github\" data-toc-modified-id=\"Create-a-repository-in-github-1\"><span class=\"toc-item-num\">1&nbsp;&nbsp;</span>Create a repository in github</a></span></li><li><span><a href=\"#clone-it\" data-toc-modified-id=\"clone-it-2\"><span class=\"toc-item-num\">2&nbsp;&nbsp;</span>clone it</a></span></li></ul></div>"
   ]
  },
  {
   "cell_type": "markdown",
   "metadata": {},
   "source": [
    "# Create a repository in github "
   ]
  },
  {
   "cell_type": "markdown",
   "metadata": {},
   "source": [
    "# clone it\n",
    "\n",
    "이걸 노트북 만들기 전에 터미널에서 하게 하고, 그 폴더 안에서 노트북 만들게 한다. \n",
    "\n",
    "```\n",
    " git clone https://github.com/veritasbrain/git_study.git\n",
    " cd git_study\n",
    "```\n",
    " \n"
   ]
  },
  {
   "cell_type": "code",
   "execution_count": 1,
   "metadata": {
    "ExecuteTime": {
     "end_time": "2020-09-21T12:48:34.677224Z",
     "start_time": "2020-09-21T12:48:34.559237Z"
    }
   },
   "outputs": [
    {
     "name": "stdout",
     "output_type": "stream",
     "text": [
      "\u001b[01;34m.\u001b[00m\r\n",
      "├── README.md\r\n",
      "└── git_study.ipynb\r\n",
      "\r\n",
      "0 directories, 2 files\r\n"
     ]
    }
   ],
   "source": [
    "! tree"
   ]
  },
  {
   "cell_type": "code",
   "execution_count": 2,
   "metadata": {
    "ExecuteTime": {
     "end_time": "2020-09-21T14:38:56.830327Z",
     "start_time": "2020-09-21T14:38:56.695762Z"
    }
   },
   "outputs": [],
   "source": [
    "! git config user.name veritasbrain"
   ]
  },
  {
   "cell_type": "code",
   "execution_count": 3,
   "metadata": {
    "ExecuteTime": {
     "end_time": "2020-09-21T14:39:08.581350Z",
     "start_time": "2020-09-21T14:39:08.455736Z"
    }
   },
   "outputs": [],
   "source": [
    "! git config user.email eygroupllc@gmail.com\n"
   ]
  },
  {
   "cell_type": "code",
   "execution_count": 4,
   "metadata": {
    "ExecuteTime": {
     "end_time": "2020-09-21T14:44:23.096933Z",
     "start_time": "2020-09-21T14:44:22.978491Z"
    }
   },
   "outputs": [],
   "source": [
    "!touch hello.html"
   ]
  },
  {
   "cell_type": "code",
   "execution_count": 5,
   "metadata": {
    "ExecuteTime": {
     "end_time": "2020-09-21T14:44:26.987740Z",
     "start_time": "2020-09-21T14:44:26.863899Z"
    }
   },
   "outputs": [
    {
     "name": "stdout",
     "output_type": "stream",
     "text": [
      "README.md        git_study.ipynb  hello.html\r\n"
     ]
    }
   ],
   "source": [
    "ls"
   ]
  },
  {
   "cell_type": "code",
   "execution_count": 6,
   "metadata": {
    "ExecuteTime": {
     "end_time": "2020-09-21T14:46:08.469727Z",
     "start_time": "2020-09-21T14:46:08.353632Z"
    }
   },
   "outputs": [],
   "source": [
    "! echo \"Hellooooooo\" > hello.html"
   ]
  },
  {
   "cell_type": "code",
   "execution_count": 7,
   "metadata": {
    "ExecuteTime": {
     "end_time": "2020-09-21T14:46:12.896917Z",
     "start_time": "2020-09-21T14:46:12.778506Z"
    }
   },
   "outputs": [
    {
     "name": "stdout",
     "output_type": "stream",
     "text": [
      "Hellooooooo\r\n"
     ]
    }
   ],
   "source": [
    "! cat hello.html\n"
   ]
  },
  {
   "cell_type": "code",
   "execution_count": 8,
   "metadata": {
    "ExecuteTime": {
     "end_time": "2020-09-21T14:46:25.657514Z",
     "start_time": "2020-09-21T14:46:25.528682Z"
    }
   },
   "outputs": [],
   "source": [
    "! git add hello.html"
   ]
  },
  {
   "cell_type": "code",
   "execution_count": 9,
   "metadata": {
    "ExecuteTime": {
     "end_time": "2020-09-21T14:46:32.534171Z",
     "start_time": "2020-09-21T14:46:32.399323Z"
    }
   },
   "outputs": [
    {
     "name": "stdout",
     "output_type": "stream",
     "text": [
      "[master 4a8c869] First Commit\r\n",
      " 1 file changed, 1 insertion(+)\r\n",
      " create mode 100644 hello.html\r\n"
     ]
    }
   ],
   "source": [
    "! git commit -m \"First Commit \""
   ]
  },
  {
   "cell_type": "code",
   "execution_count": 10,
   "metadata": {
    "ExecuteTime": {
     "end_time": "2020-09-21T14:46:40.988170Z",
     "start_time": "2020-09-21T14:46:40.859727Z"
    }
   },
   "outputs": [],
   "source": [
    "! git add --all"
   ]
  },
  {
   "cell_type": "code",
   "execution_count": 11,
   "metadata": {
    "ExecuteTime": {
     "end_time": "2020-09-21T14:46:50.237218Z",
     "start_time": "2020-09-21T14:46:50.099468Z"
    }
   },
   "outputs": [
    {
     "name": "stdout",
     "output_type": "stream",
     "text": [
      "[master 1e8504b] First Commit\r\n",
      " 2 files changed, 323 insertions(+)\r\n",
      " create mode 100644 .ipynb_checkpoints/git_study-checkpoint.ipynb\r\n",
      " create mode 100644 git_study.ipynb\r\n"
     ]
    }
   ],
   "source": [
    "! git commit -m \"First Commit \""
   ]
  },
  {
   "cell_type": "code",
   "execution_count": 12,
   "metadata": {
    "ExecuteTime": {
     "end_time": "2020-09-21T14:46:54.683715Z",
     "start_time": "2020-09-21T14:46:54.554119Z"
    }
   },
   "outputs": [
    {
     "name": "stdout",
     "output_type": "stream",
     "text": [
      "\u001b[33mcommit 1e8504b062df6a0f6f5fdfa8637564c27e1773ad\u001b[m\u001b[33m (\u001b[m\u001b[1;36mHEAD -> \u001b[m\u001b[1;32mmaster\u001b[m\u001b[33m)\u001b[m\r\n",
      "Author: veritasbrain <eygroupllc@gmail.com>\r\n",
      "Date:   Mon Sep 21 10:46:50 2020 -0400\r\n",
      "\r\n",
      "    First Commit\r\n",
      "\r\n",
      "\u001b[33mcommit 4a8c86956e5c86f6eb5b41d1c60321ef80401487\u001b[m\r\n",
      "Author: veritasbrain <eygroupllc@gmail.com>\r\n",
      "Date:   Mon Sep 21 10:46:32 2020 -0400\r\n",
      "\r\n",
      "    First Commit\r\n",
      "\r\n",
      "\u001b[33mcommit 0b9990e9819f33325a1ae08055582fb975a27110\u001b[m\u001b[33m (\u001b[m\u001b[1;31morigin/master\u001b[m\u001b[33m, \u001b[m\u001b[1;31morigin/HEAD\u001b[m\u001b[33m)\u001b[m\r\n",
      "Author: Veritas Brain <34175383+veritasbrain@users.noreply.github.com>\r\n",
      "Date:   Mon Sep 21 08:29:00 2020 -0400\r\n",
      "\r\n",
      "    Initial commit\r\n"
     ]
    }
   ],
   "source": [
    "! git log\n"
   ]
  },
  {
   "cell_type": "code",
   "execution_count": 13,
   "metadata": {
    "ExecuteTime": {
     "end_time": "2020-09-21T14:47:04.763572Z",
     "start_time": "2020-09-21T14:47:04.379248Z"
    }
   },
   "outputs": [
    {
     "name": "stdout",
     "output_type": "stream",
     "text": [
      "remote: Repository not found.\r\n",
      "fatal: repository 'https://github.com/veritasbrain/git_study.git/' not found\r\n"
     ]
    }
   ],
   "source": [
    "! git push"
   ]
  },
  {
   "cell_type": "code",
   "execution_count": null,
   "metadata": {},
   "outputs": [],
   "source": [
    "! git push "
   ]
  }
 ],
 "metadata": {
  "kernelspec": {
   "display_name": "Python 3.6.7 64-bit ('research': conda)",
   "language": "python",
   "name": "python36764bitresearchconda6c36d073e2374c789cbfcbd2cffdd1e2"
  },
  "language_info": {
   "codemirror_mode": {
    "name": "ipython",
    "version": 3
   },
   "file_extension": ".py",
   "mimetype": "text/x-python",
   "name": "python",
   "nbconvert_exporter": "python",
   "pygments_lexer": "ipython3",
   "version": "3.6.7"
  },
  "toc": {
   "base_numbering": 1,
   "nav_menu": {},
   "number_sections": true,
   "sideBar": true,
   "skip_h1_title": false,
   "title_cell": "Table of Contents",
   "title_sidebar": "Contents",
   "toc_cell": true,
   "toc_position": {
    "height": "912.2000122070312px",
    "left": "10px",
    "top": "129px",
    "width": "193.91250610351562px"
   },
   "toc_section_display": true,
   "toc_window_display": true
  }
 },
 "nbformat": 4,
 "nbformat_minor": 2
}
