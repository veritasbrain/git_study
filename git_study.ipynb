{
 "cells": [
  {
   "cell_type": "markdown",
   "metadata": {
    "toc": true
   },
   "source": [
    "<h1>Table of Contents<span class=\"tocSkip\"></span></h1>\n",
    "<div class=\"toc\"><ul class=\"toc-item\"><li><span><a href=\"#Create-a-repository-in-github\" data-toc-modified-id=\"Create-a-repository-in-github-1\"><span class=\"toc-item-num\">1&nbsp;&nbsp;</span>Create a repository in github</a></span></li><li><span><a href=\"#clone-it\" data-toc-modified-id=\"clone-it-2\"><span class=\"toc-item-num\">2&nbsp;&nbsp;</span>clone it</a></span></li><li><span><a href=\"#Making-changes\" data-toc-modified-id=\"Making-changes-3\"><span class=\"toc-item-num\">3&nbsp;&nbsp;</span>Making changes</a></span></li><li><span><a href=\"#statging-the-changes\" data-toc-modified-id=\"statging-the-changes-4\"><span class=\"toc-item-num\">4&nbsp;&nbsp;</span>statging the changes</a></span></li><li><span><a href=\"#statging-and-committing\" data-toc-modified-id=\"statging-and-committing-5\"><span class=\"toc-item-num\">5&nbsp;&nbsp;</span>statging and committing</a></span></li><li><span><a href=\"#Comming-the-changes\" data-toc-modified-id=\"Comming-the-changes-6\"><span class=\"toc-item-num\">6&nbsp;&nbsp;</span>Comming the changes</a></span></li><li><span><a href=\"#0.-changes,-not-files\" data-toc-modified-id=\"0.-changes,-not-files-7\"><span class=\"toc-item-num\">7&nbsp;&nbsp;</span>0. changes, not files</a></span></li></ul></div>"
   ]
  },
  {
   "cell_type": "markdown",
   "metadata": {},
   "source": [
    "# Create a repository in github "
   ]
  },
  {
   "cell_type": "markdown",
   "metadata": {},
   "source": [
    "# clone it\n",
    "\n",
    "이걸 노트북 만들기 전에 터미널에서 하게 하고, 그 폴더 안에서 노트북 만들게 한다. \n",
    "\n",
    "```\n",
    " git clone https://github.com/veritasbrain/git_study.git\n",
    " cd git_study\n",
    "```\n",
    " \n"
   ]
  },
  {
   "cell_type": "code",
   "execution_count": 1,
   "metadata": {
    "ExecuteTime": {
     "end_time": "2020-09-21T12:48:34.677224Z",
     "start_time": "2020-09-21T12:48:34.559237Z"
    }
   },
   "outputs": [
    {
     "name": "stdout",
     "output_type": "stream",
     "text": [
      "\u001b[01;34m.\u001b[00m\r\n",
      "├── README.md\r\n",
      "└── git_study.ipynb\r\n",
      "\r\n",
      "0 directories, 2 files\r\n"
     ]
    }
   ],
   "source": [
    "! tree"
   ]
  },
  {
   "cell_type": "code",
   "execution_count": 2,
   "metadata": {
    "ExecuteTime": {
     "end_time": "2020-09-21T14:38:56.830327Z",
     "start_time": "2020-09-21T14:38:56.695762Z"
    }
   },
   "outputs": [],
   "source": [
    "! git config user.name veritasbrain"
   ]
  },
  {
   "cell_type": "code",
   "execution_count": 3,
   "metadata": {
    "ExecuteTime": {
     "end_time": "2020-09-21T14:39:08.581350Z",
     "start_time": "2020-09-21T14:39:08.455736Z"
    }
   },
   "outputs": [],
   "source": [
    "! git config user.email eygroupllc@gmail.com\n"
   ]
  },
  {
   "cell_type": "code",
   "execution_count": 4,
   "metadata": {
    "ExecuteTime": {
     "end_time": "2020-09-21T14:44:23.096933Z",
     "start_time": "2020-09-21T14:44:22.978491Z"
    }
   },
   "outputs": [],
   "source": [
    "!touch hello.html"
   ]
  },
  {
   "cell_type": "code",
   "execution_count": 5,
   "metadata": {
    "ExecuteTime": {
     "end_time": "2020-09-21T14:44:26.987740Z",
     "start_time": "2020-09-21T14:44:26.863899Z"
    }
   },
   "outputs": [
    {
     "name": "stdout",
     "output_type": "stream",
     "text": [
      "README.md        git_study.ipynb  hello.html\r\n"
     ]
    }
   ],
   "source": [
    "ls"
   ]
  },
  {
   "cell_type": "code",
   "execution_count": 6,
   "metadata": {
    "ExecuteTime": {
     "end_time": "2020-09-21T14:46:08.469727Z",
     "start_time": "2020-09-21T14:46:08.353632Z"
    }
   },
   "outputs": [],
   "source": [
    "! echo \"Hellooooooo\" > hello.html"
   ]
  },
  {
   "cell_type": "code",
   "execution_count": 7,
   "metadata": {
    "ExecuteTime": {
     "end_time": "2020-09-21T14:46:12.896917Z",
     "start_time": "2020-09-21T14:46:12.778506Z"
    }
   },
   "outputs": [
    {
     "name": "stdout",
     "output_type": "stream",
     "text": [
      "Hellooooooo\r\n"
     ]
    }
   ],
   "source": [
    "! cat hello.html\n"
   ]
  },
  {
   "cell_type": "code",
   "execution_count": 8,
   "metadata": {
    "ExecuteTime": {
     "end_time": "2020-09-21T14:46:25.657514Z",
     "start_time": "2020-09-21T14:46:25.528682Z"
    }
   },
   "outputs": [],
   "source": [
    "! git add hello.html"
   ]
  },
  {
   "cell_type": "code",
   "execution_count": 9,
   "metadata": {
    "ExecuteTime": {
     "end_time": "2020-09-21T14:46:32.534171Z",
     "start_time": "2020-09-21T14:46:32.399323Z"
    }
   },
   "outputs": [
    {
     "name": "stdout",
     "output_type": "stream",
     "text": [
      "[master 4a8c869] First Commit\r\n",
      " 1 file changed, 1 insertion(+)\r\n",
      " create mode 100644 hello.html\r\n"
     ]
    }
   ],
   "source": [
    "! git commit -m \"First Commit \""
   ]
  },
  {
   "cell_type": "code",
   "execution_count": 10,
   "metadata": {
    "ExecuteTime": {
     "end_time": "2020-09-21T14:46:40.988170Z",
     "start_time": "2020-09-21T14:46:40.859727Z"
    }
   },
   "outputs": [],
   "source": [
    "! git add --all"
   ]
  },
  {
   "cell_type": "code",
   "execution_count": 11,
   "metadata": {
    "ExecuteTime": {
     "end_time": "2020-09-21T14:46:50.237218Z",
     "start_time": "2020-09-21T14:46:50.099468Z"
    }
   },
   "outputs": [
    {
     "name": "stdout",
     "output_type": "stream",
     "text": [
      "[master 1e8504b] First Commit\r\n",
      " 2 files changed, 323 insertions(+)\r\n",
      " create mode 100644 .ipynb_checkpoints/git_study-checkpoint.ipynb\r\n",
      " create mode 100644 git_study.ipynb\r\n"
     ]
    }
   ],
   "source": [
    "! git commit -m \"First Commit \""
   ]
  },
  {
   "cell_type": "code",
   "execution_count": 12,
   "metadata": {
    "ExecuteTime": {
     "end_time": "2020-09-21T14:46:54.683715Z",
     "start_time": "2020-09-21T14:46:54.554119Z"
    }
   },
   "outputs": [
    {
     "name": "stdout",
     "output_type": "stream",
     "text": [
      "\u001b[33mcommit 1e8504b062df6a0f6f5fdfa8637564c27e1773ad\u001b[m\u001b[33m (\u001b[m\u001b[1;36mHEAD -> \u001b[m\u001b[1;32mmaster\u001b[m\u001b[33m)\u001b[m\r\n",
      "Author: veritasbrain <eygroupllc@gmail.com>\r\n",
      "Date:   Mon Sep 21 10:46:50 2020 -0400\r\n",
      "\r\n",
      "    First Commit\r\n",
      "\r\n",
      "\u001b[33mcommit 4a8c86956e5c86f6eb5b41d1c60321ef80401487\u001b[m\r\n",
      "Author: veritasbrain <eygroupllc@gmail.com>\r\n",
      "Date:   Mon Sep 21 10:46:32 2020 -0400\r\n",
      "\r\n",
      "    First Commit\r\n",
      "\r\n",
      "\u001b[33mcommit 0b9990e9819f33325a1ae08055582fb975a27110\u001b[m\u001b[33m (\u001b[m\u001b[1;31morigin/master\u001b[m\u001b[33m, \u001b[m\u001b[1;31morigin/HEAD\u001b[m\u001b[33m)\u001b[m\r\n",
      "Author: Veritas Brain <34175383+veritasbrain@users.noreply.github.com>\r\n",
      "Date:   Mon Sep 21 08:29:00 2020 -0400\r\n",
      "\r\n",
      "    Initial commit\r\n"
     ]
    }
   ],
   "source": [
    "! git log\n"
   ]
  },
  {
   "cell_type": "code",
   "execution_count": 14,
   "metadata": {
    "ExecuteTime": {
     "end_time": "2020-09-21T15:03:45.985953Z",
     "start_time": "2020-09-21T15:03:45.352334Z"
    }
   },
   "outputs": [
    {
     "name": "stdout",
     "output_type": "stream",
     "text": [
      "Everything up-to-date\r\n"
     ]
    }
   ],
   "source": [
    "! git push"
   ]
  },
  {
   "cell_type": "markdown",
   "metadata": {},
   "source": [
    "# Making changes\n",
    "terminal에서 nano를 써서 바꾸게 한다."
   ]
  },
  {
   "cell_type": "code",
   "execution_count": 15,
   "metadata": {
    "ExecuteTime": {
     "end_time": "2020-09-21T15:06:15.736477Z",
     "start_time": "2020-09-21T15:06:15.607430Z"
    }
   },
   "outputs": [
    {
     "name": "stdout",
     "output_type": "stream",
     "text": [
      "On branch master\r\n",
      "Your branch is up to date with 'origin/master'.\r\n",
      "\r\n",
      "Changes not staged for commit:\r\n",
      "  (use \"git add <file>...\" to update what will be committed)\r\n",
      "  (use \"git restore <file>...\" to discard changes in working directory)\r\n",
      "\t\u001b[31mmodified:   git_study.ipynb\u001b[m\r\n",
      "\t\u001b[31mmodified:   hello.html\u001b[m\r\n",
      "\r\n",
      "no changes added to commit (use \"git add\" and/or \"git commit -a\")\r\n"
     ]
    }
   ],
   "source": [
    "! git status\n"
   ]
  },
  {
   "cell_type": "markdown",
   "metadata": {},
   "source": [
    "# statging the changes\n"
   ]
  },
  {
   "cell_type": "code",
   "execution_count": 16,
   "metadata": {
    "ExecuteTime": {
     "end_time": "2020-09-21T15:06:50.570576Z",
     "start_time": "2020-09-21T15:06:50.438407Z"
    }
   },
   "outputs": [],
   "source": [
    "! git add --all"
   ]
  },
  {
   "cell_type": "code",
   "execution_count": 17,
   "metadata": {
    "ExecuteTime": {
     "end_time": "2020-09-21T15:06:53.638959Z",
     "start_time": "2020-09-21T15:06:53.513040Z"
    }
   },
   "outputs": [
    {
     "name": "stdout",
     "output_type": "stream",
     "text": [
      "On branch master\r\n",
      "Your branch is up to date with 'origin/master'.\r\n",
      "\r\n",
      "Changes to be committed:\r\n",
      "  (use \"git restore --staged <file>...\" to unstage)\r\n",
      "\t\u001b[32mmodified:   git_study.ipynb\u001b[m\r\n",
      "\t\u001b[32mmodified:   hello.html\u001b[m\r\n",
      "\r\n"
     ]
    }
   ],
   "source": [
    "! git status"
   ]
  },
  {
   "cell_type": "markdown",
   "metadata": {},
   "source": [
    "# statging and committing\n"
   ]
  },
  {
   "cell_type": "code",
   "execution_count": 18,
   "metadata": {
    "ExecuteTime": {
     "end_time": "2020-09-21T15:09:00.003535Z",
     "start_time": "2020-09-21T15:08:59.874103Z"
    }
   },
   "outputs": [],
   "source": [
    "! git add --all\n"
   ]
  },
  {
   "cell_type": "code",
   "execution_count": 19,
   "metadata": {
    "ExecuteTime": {
     "end_time": "2020-09-21T15:09:11.290203Z",
     "start_time": "2020-09-21T15:09:11.154642Z"
    }
   },
   "outputs": [
    {
     "name": "stdout",
     "output_type": "stream",
     "text": [
      "[master 8309045] Changes for a and b\r\n",
      " 2 files changed, 95 insertions(+), 9 deletions(-)\r\n"
     ]
    }
   ],
   "source": [
    "! git commit -m \"Changes for a and b\""
   ]
  },
  {
   "cell_type": "markdown",
   "metadata": {},
   "source": [
    "# Comming the changes\n",
    "\n",
    "Well, enough about staging. Let’s commit the staged changes to the repository.\n",
    "\n",
    "When you previously used git commit for committing the first hello.html version to the repository, you included the -m flag that gives a comment on the command line. The commit command allows interactively editing comments for the commit. And now, let’s see how it works.\n",
    "\n",
    "If you omit the -m flag from the command line, git will pop you into the editor of your choice from the list (in order of priority):\n",
    "\n",
    "GIT_EDITOR environment variable\n",
    "core.editor configuration setting\n",
    "VISUAL environment variable\n",
    "EDITOR environment variable\n",
    "I have the EDITOR variable set to emacsclient (available for Linux and Mac).\n",
    "\n"
   ]
  },
  {
   "cell_type": "code",
   "execution_count": 20,
   "metadata": {
    "ExecuteTime": {
     "end_time": "2020-09-21T15:12:03.092096Z",
     "start_time": "2020-09-21T15:12:02.963675Z"
    }
   },
   "outputs": [
    {
     "name": "stdout",
     "output_type": "stream",
     "text": [
      "On branch master\r\n",
      "Your branch is ahead of 'origin/master' by 1 commit.\r\n",
      "  (use \"git push\" to publish your local commits)\r\n",
      "\r\n",
      "Changes not staged for commit:\r\n",
      "\t\u001b[31mmodified:   git_study.ipynb\u001b[m\r\n",
      "\r\n",
      "no changes added to commit\r\n"
     ]
    }
   ],
   "source": [
    "! git commit\n"
   ]
  },
  {
   "cell_type": "markdown",
   "metadata": {},
   "source": [
    "# 0. changes, not files"
   ]
  },
  {
   "cell_type": "code",
   "execution_count": null,
   "metadata": {},
   "outputs": [],
   "source": []
  }
 ],
 "metadata": {
  "kernelspec": {
   "display_name": "Python 3.6.7 64-bit ('research': conda)",
   "language": "python",
   "name": "python36764bitresearchconda6c36d073e2374c789cbfcbd2cffdd1e2"
  },
  "language_info": {
   "codemirror_mode": {
    "name": "ipython",
    "version": 3
   },
   "file_extension": ".py",
   "mimetype": "text/x-python",
   "name": "python",
   "nbconvert_exporter": "python",
   "pygments_lexer": "ipython3",
   "version": "3.6.7"
  },
  "toc": {
   "base_numbering": 1,
   "nav_menu": {},
   "number_sections": true,
   "sideBar": true,
   "skip_h1_title": false,
   "title_cell": "Table of Contents",
   "title_sidebar": "Contents",
   "toc_cell": true,
   "toc_position": {
    "height": "912.2000122070312px",
    "left": "10px",
    "top": "129px",
    "width": "193.91250610351562px"
   },
   "toc_section_display": true,
   "toc_window_display": true
  }
 },
 "nbformat": 4,
 "nbformat_minor": 2
}
